{
 "cells": [
  {
   "cell_type": "markdown",
   "metadata": {
    "toc": true
   },
   "source": [
    "<h1>Table of Contents<span class=\"tocSkip\"></span></h1>\n",
    "<div class=\"toc\" style=\"margin-top: 1em;\"><ul class=\"toc-item\"><li><span><a href=\"#Introduction-to-Pandas\" data-toc-modified-id=\"Introduction-to-Pandas-1\"><span class=\"toc-item-num\">1&nbsp;&nbsp;</span>Introduction to Pandas</a></span><ul class=\"toc-item\"><li><span><a href=\"#What-Is-Pandas?\" data-toc-modified-id=\"What-Is-Pandas?-1.1\"><span class=\"toc-item-num\">1.1&nbsp;&nbsp;</span>What Is Pandas?</a></span></li><li><span><a href=\"#Why-Use-Pandas?\" data-toc-modified-id=\"Why-Use-Pandas?-1.2\"><span class=\"toc-item-num\">1.2&nbsp;&nbsp;</span>Why Use Pandas?</a></span></li></ul></li><li><span><a href=\"#Getting-Started-with-Pandas\" data-toc-modified-id=\"Getting-Started-with-Pandas-2\"><span class=\"toc-item-num\">2&nbsp;&nbsp;</span>Getting Started with Pandas</a></span><ul class=\"toc-item\"><li><span><a href=\"#Importing-Pandas\" data-toc-modified-id=\"Importing-Pandas-2.1\"><span class=\"toc-item-num\">2.1&nbsp;&nbsp;</span>Importing Pandas</a></span></li><li><span><a href=\"#Importing-Data\" data-toc-modified-id=\"Importing-Data-2.2\"><span class=\"toc-item-num\">2.2&nbsp;&nbsp;</span>Importing Data</a></span></li></ul></li><li><span><a href=\"#Pandas-Data-Structures\" data-toc-modified-id=\"Pandas-Data-Structures-3\"><span class=\"toc-item-num\">3&nbsp;&nbsp;</span>Pandas Data Structures</a></span><ul class=\"toc-item\"><li><span><a href=\"#Series\" data-toc-modified-id=\"Series-3.1\"><span class=\"toc-item-num\">3.1&nbsp;&nbsp;</span>Series</a></span></li><li><span><a href=\"#Dataframes\" data-toc-modified-id=\"Dataframes-3.2\"><span class=\"toc-item-num\">3.2&nbsp;&nbsp;</span>Dataframes</a></span></li></ul></li><li><span><a href=\"#Modifying-Data\" data-toc-modified-id=\"Modifying-Data-4\"><span class=\"toc-item-num\">4&nbsp;&nbsp;</span>Modifying Data</a></span><ul class=\"toc-item\"><li><span><a href=\"#Indexing\" data-toc-modified-id=\"Indexing-4.1\"><span class=\"toc-item-num\">4.1&nbsp;&nbsp;</span>Indexing</a></span></li><li><span><a href=\"#Sorting\" data-toc-modified-id=\"Sorting-4.2\"><span class=\"toc-item-num\">4.2&nbsp;&nbsp;</span>Sorting</a></span></li><li><span><a href=\"#Filtering\" data-toc-modified-id=\"Filtering-4.3\"><span class=\"toc-item-num\">4.3&nbsp;&nbsp;</span>Filtering</a></span></li></ul></li><li><span><a href=\"#Cleaning-Data\" data-toc-modified-id=\"Cleaning-Data-5\"><span class=\"toc-item-num\">5&nbsp;&nbsp;</span>Cleaning Data</a></span><ul class=\"toc-item\"><li><span><a href=\"#Filtering-Missing-Values\" data-toc-modified-id=\"Filtering-Missing-Values-5.1\"><span class=\"toc-item-num\">5.1&nbsp;&nbsp;</span>Filtering Missing Values</a></span></li><li><span><a href=\"#Filling-In-Missing-Values\" data-toc-modified-id=\"Filling-In-Missing-Values-5.2\"><span class=\"toc-item-num\">5.2&nbsp;&nbsp;</span>Filling In Missing Values</a></span></li></ul></li><li><span><a href=\"#Basic-Analysis\" data-toc-modified-id=\"Basic-Analysis-6\"><span class=\"toc-item-num\">6&nbsp;&nbsp;</span>Basic Analysis</a></span><ul class=\"toc-item\"><li><span><a href=\"#Operations\" data-toc-modified-id=\"Operations-6.1\"><span class=\"toc-item-num\">6.1&nbsp;&nbsp;</span>Operations</a></span></li><li><span><a href=\"#Descriptive-Statistics\" data-toc-modified-id=\"Descriptive-Statistics-6.2\"><span class=\"toc-item-num\">6.2&nbsp;&nbsp;</span>Descriptive Statistics</a></span></li></ul></li><li><span><a href=\"#Data-Visualization\" data-toc-modified-id=\"Data-Visualization-7\"><span class=\"toc-item-num\">7&nbsp;&nbsp;</span>Data Visualization</a></span><ul class=\"toc-item\"><li><span><a href=\"#Histogram\" data-toc-modified-id=\"Histogram-7.1\"><span class=\"toc-item-num\">7.1&nbsp;&nbsp;</span>Histogram</a></span></li></ul></li></ul></div>"
   ]
  },
  {
   "cell_type": "markdown",
   "metadata": {},
   "source": [
    "# Introduction to Pandas"
   ]
  },
  {
   "cell_type": "markdown",
   "metadata": {},
   "source": [
    "## What Is Pandas?"
   ]
  },
  {
   "cell_type": "markdown",
   "metadata": {},
   "source": [
    "Pandas builds upon numpy and is intended to make data analysis faster and easier with its data structures and data manipulation tools."
   ]
  },
  {
   "cell_type": "markdown",
   "metadata": {},
   "source": [
    "## Why Use Pandas?"
   ]
  },
  {
   "cell_type": "markdown",
   "metadata": {},
   "source": [
    "# Getting Started with Pandas"
   ]
  },
  {
   "cell_type": "markdown",
   "metadata": {},
   "source": [
    "## Importing Pandas"
   ]
  },
  {
   "cell_type": "code",
   "execution_count": null,
   "metadata": {
    "collapsed": true
   },
   "outputs": [],
   "source": [
    "from pandas import Series, DataFrame"
   ]
  },
  {
   "cell_type": "code",
   "execution_count": null,
   "metadata": {
    "collapsed": true
   },
   "outputs": [],
   "source": [
    "import pandas as pd"
   ]
  },
  {
   "cell_type": "markdown",
   "metadata": {},
   "source": [
    "## Importing Data"
   ]
  },
  {
   "cell_type": "markdown",
   "metadata": {},
   "source": [
    "# Pandas Data Structures"
   ]
  },
  {
   "cell_type": "markdown",
   "metadata": {},
   "source": [
    "## Series"
   ]
  },
  {
   "cell_type": "markdown",
   "metadata": {},
   "source": [
    "## Dataframes"
   ]
  },
  {
   "cell_type": "markdown",
   "metadata": {},
   "source": [
    "# Modifying Data"
   ]
  },
  {
   "cell_type": "markdown",
   "metadata": {},
   "source": [
    "## Indexing"
   ]
  },
  {
   "cell_type": "markdown",
   "metadata": {},
   "source": [
    "## Sorting"
   ]
  },
  {
   "cell_type": "markdown",
   "metadata": {},
   "source": [
    "## Filtering"
   ]
  },
  {
   "cell_type": "markdown",
   "metadata": {},
   "source": [
    "# Cleaning Data"
   ]
  },
  {
   "cell_type": "markdown",
   "metadata": {},
   "source": [
    "## Filtering Missing Values"
   ]
  },
  {
   "cell_type": "markdown",
   "metadata": {},
   "source": [
    "## Filling In Missing Values"
   ]
  },
  {
   "cell_type": "markdown",
   "metadata": {},
   "source": [
    "# Basic Analysis"
   ]
  },
  {
   "cell_type": "markdown",
   "metadata": {},
   "source": [
    "## Operations"
   ]
  },
  {
   "cell_type": "markdown",
   "metadata": {},
   "source": [
    "## Descriptive Statistics"
   ]
  },
  {
   "cell_type": "markdown",
   "metadata": {},
   "source": [
    "# Data Visualization"
   ]
  },
  {
   "cell_type": "markdown",
   "metadata": {},
   "source": [
    "## Histogram"
   ]
  }
 ],
 "metadata": {
  "kernelspec": {
   "display_name": "Python 3",
   "language": "python",
   "name": "python3"
  },
  "language_info": {
   "codemirror_mode": {
    "name": "ipython",
    "version": 3
   },
   "file_extension": ".py",
   "mimetype": "text/x-python",
   "name": "python",
   "nbconvert_exporter": "python",
   "pygments_lexer": "ipython3",
   "version": "3.6.3"
  },
  "toc": {
   "nav_menu": {},
   "number_sections": true,
   "sideBar": true,
   "skip_h1_title": false,
   "toc_cell": true,
   "toc_position": {},
   "toc_section_display": "block",
   "toc_window_display": true
  }
 },
 "nbformat": 4,
 "nbformat_minor": 2
}
